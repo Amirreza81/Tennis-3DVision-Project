{
 "cells": [
  {
   "cell_type": "code",
   "execution_count": 36,
   "id": "b76328a0",
   "metadata": {},
   "outputs": [
    {
     "name": "stdout",
     "output_type": "stream",
     "text": [
      "Random frame saved as t.jpeg\n"
     ]
    }
   ],
   "source": [
    "import cv2\n",
    "import numpy as np\n",
    "\n",
    "def save_random_frame(video_path, output_path):\n",
    "    # Read video file\n",
    "    cap = cv2.VideoCapture(video_path)\n",
    "\n",
    "    # Choose a random frame number\n",
    "    frame_number = np.random.randint(0, int(cap.get(cv2.CAP_PROP_FRAME_COUNT)))\n",
    "\n",
    "    # Set the frame number and check if it is read successfully\n",
    "    cap.set(cv2.CAP_PROP_POS_FRAMES, frame_number)\n",
    "    ret, frame = cap.read()\n",
    "\n",
    "    if not ret:\n",
    "        print(\"Error reading frame. Check if the video file exists and is readable.\")\n",
    "        return\n",
    "\n",
    "    # Save the frame as an image\n",
    "    cv2.imwrite(output_path, frame)\n",
    "\n",
    "    print(f\"Random frame saved as {output_path}\")\n",
    "\n",
    "    # Release the video capture object\n",
    "    cap.release()\n",
    "\n",
    "# Specify the video file and output image path\n",
    "video_path = '1.mp4'\n",
    "output_image_path = 't.jpeg'\n",
    "\n",
    "# Call the function to save a random frame\n",
    "save_random_frame(video_path, output_image_path)\n"
   ]
  },
  {
   "cell_type": "code",
   "execution_count": 68,
   "id": "08b8b0d5",
   "metadata": {},
   "outputs": [
    {
     "name": "stdout",
     "output_type": "stream",
     "text": [
      "0.38386402\n",
      "0.0\n",
      "0.40402624\n"
     ]
    },
    {
     "data": {
      "text/plain": [
       "True"
      ]
     },
     "execution_count": 68,
     "metadata": {},
     "output_type": "execute_result"
    }
   ],
   "source": [
    "import cv2\n",
    "import numpy as np\n",
    "\n",
    "# Read the input image\n",
    "image = cv2.imread('t.jpeg')\n",
    "\n",
    "# Convert the image to grayscale\n",
    "gray = cv2.cvtColor(image, cv2.COLOR_BGR2GRAY)\n",
    "\n",
    "# Apply Gaussian blur to reduce noise and improve edge detection\n",
    "blurred = cv2.GaussianBlur(gray, (5, 5), 0)\n",
    "\n",
    "# Use Canny edge detection to find edges in the image\n",
    "edges = cv2.Canny(blurred, 50, 150)\n",
    "\n",
    "# Use Hough line transform to detect lines in the image\n",
    "lines = cv2.HoughLines(edges, 1, np.pi / 180, threshold=100)\n",
    "\n",
    "# Filter lines based on slope and remove duplicates\n",
    "filtered_lines = []\n",
    "for line in lines:\n",
    "    rho, theta = line[0]\n",
    "    slope = np.abs(np.tan(theta))\n",
    "    \n",
    "    # Filter out lines with slopes less than 25 degrees\n",
    "    if slope < np.tan(np.radians(25)):\n",
    "        # Check if the line is not a duplicate\n",
    "        is_duplicate = False\n",
    "        for existing_line in filtered_lines:\n",
    "            existing_rho, existing_theta = existing_line[0]\n",
    "            if np.abs(rho - existing_rho) < 20 and np.abs(theta - existing_theta) < np.radians(5):\n",
    "                is_duplicate = True\n",
    "                break\n",
    "        if not is_duplicate:\n",
    "            filtered_lines.append(line)\n",
    "            print(slope)\n",
    "\n",
    "# Draw the filtered lines on a copy of the original image\n",
    "result = image.copy()\n",
    "for line in filtered_lines:\n",
    "    rho, theta = line[0]\n",
    "    a = np.cos(theta)\n",
    "    b = np.sin(theta)\n",
    "    x0 = a * rho\n",
    "    y0 = b * rho\n",
    "    x1 = int(x0 + 1000 * (-b))\n",
    "    y1 = int(y0 + 1000 * (a))\n",
    "    x2 = int(x0 - 1000 * (-b))\n",
    "    y2 = int(y0 - 1000 * (a))\n",
    "    cv2.line(result, (x1, y1), (x2, y2), (0, 0, 255), 2)\n",
    "\n",
    "# Save the result image\n",
    "cv2.imwrite('res.jpg', result)\n"
   ]
  },
  {
   "cell_type": "code",
   "execution_count": 66,
   "id": "f7a11ead",
   "metadata": {},
   "outputs": [
    {
     "data": {
      "text/plain": [
       "True"
      ]
     },
     "execution_count": 66,
     "metadata": {},
     "output_type": "execute_result"
    }
   ],
   "source": []
  },
  {
   "cell_type": "code",
   "execution_count": null,
   "id": "f6d29903",
   "metadata": {},
   "outputs": [],
   "source": []
  },
  {
   "cell_type": "code",
   "execution_count": 71,
   "id": "37b08dac",
   "metadata": {},
   "outputs": [
    {
     "data": {
      "text/plain": [
       "True"
      ]
     },
     "execution_count": 71,
     "metadata": {},
     "output_type": "execute_result"
    }
   ],
   "source": [
    "import cv2\n",
    "import numpy as np\n",
    "\n",
    "# Read the input image\n",
    "image = cv2.imread('k.jfif')\n",
    "\n",
    "# Define the source points (coordinates of the square)\n",
    "src_pts = np.array([[100, 100], [200, 100], [200, 200], [100, 200]], dtype=np.float32)\n",
    "\n",
    "# Define the destination points with different slopes for left and right vertical edges\n",
    "M1 = 0.4  # Slope for the right vertical edge\n",
    "M2 = -0.4 # Slope for the left vertical edge\n",
    "dst_pts = np.array([[100, 100], [200, 100], [200 + M1 * 100, 200], [100 + M2 * 100, 200]], dtype=np.float32)\n",
    "\n",
    "# Calculate the transformation matrix\n",
    "transform_matrix = cv2.getPerspectiveTransform(src_pts, dst_pts)\n",
    "\n",
    "# Apply the transformation to the image\n",
    "result = cv2.warpPerspective(image, transform_matrix, (image.shape[1], image.shape[0]))\n",
    "\n",
    "# Save the result image\n",
    "cv2.imwrite('transformed_image.jpg', result)\n"
   ]
  },
  {
   "cell_type": "code",
   "execution_count": null,
   "id": "f859fdaf",
   "metadata": {},
   "outputs": [],
   "source": []
  }
 ],
 "metadata": {
  "kernelspec": {
   "display_name": "Python 3 (ipykernel)",
   "language": "python",
   "name": "python3"
  },
  "language_info": {
   "codemirror_mode": {
    "name": "ipython",
    "version": 3
   },
   "file_extension": ".py",
   "mimetype": "text/x-python",
   "name": "python",
   "nbconvert_exporter": "python",
   "pygments_lexer": "ipython3",
   "version": "3.9.13"
  }
 },
 "nbformat": 4,
 "nbformat_minor": 5
}
