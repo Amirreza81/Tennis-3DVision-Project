{
 "cells": [
  {
   "cell_type": "code",
   "execution_count": 3,
   "metadata": {},
   "outputs": [],
   "source": [
    "import cv2\n",
    "import imutils\n",
    "import matplotlib.pyplot as plt\n",
    "import numpy as np"
   ]
  },
  {
   "cell_type": "code",
   "execution_count": 5,
   "metadata": {},
   "outputs": [
    {
     "name": "stdout",
     "output_type": "stream",
     "text": [
      "Saved 12084 frames in folder allframesg\n"
     ]
    }
   ],
   "source": [
    "import cv2\n",
    "import os\n",
    "\n",
    "def read_video_and_save_frames(video_path, output_folder):\n",
    "    # Create the folder if it doesn't exist\n",
    "    if not os.path.exists(output_folder):\n",
    "        os.makedirs(output_folder)\n",
    "\n",
    "    # Open the video file\n",
    "    cap = cv2.VideoCapture(video_path)\n",
    "    frame_count = 0\n",
    "\n",
    "    while cap.isOpened():\n",
    "        ret, frame = cap.read()\n",
    "        if not ret:\n",
    "            break\n",
    "\n",
    "        frame_path = os.path.join(output_folder, f'frame{frame_count}.jpg')\n",
    "        cv2.imwrite(frame_path, frame)\n",
    "        frame_count += 1\n",
    "\n",
    "    cap.release()\n",
    "    print(f\"Saved {frame_count} frames in folder {output_folder}\")\n",
    "\n",
    "def swap_and_save_frame_content(video_path, frame1_num, frame2_num, top_left, bottom_right, output_image_name):\n",
    "    cap = cv2.VideoCapture(video_path)\n",
    "    frame1, frame2 = None, None\n",
    "\n",
    "    for i in range(max(frame1_num, frame2_num) + 1):\n",
    "        ret, frame = cap.read()\n",
    "        if i == frame1_num:\n",
    "            frame1 = frame\n",
    "        elif i == frame2_num:\n",
    "            frame2 = frame\n",
    "\n",
    "    if frame1 is not None and frame2 is not None:\n",
    "        # Extracting the rectangle regions\n",
    "        rect1 = frame1[top_left[1]:bottom_right[1], top_left[0]:bottom_right[0]]\n",
    "        rect2 = frame2[top_left[1]:bottom_right[1], top_left[0]:bottom_right[0]]\n",
    "\n",
    "        # Swapping the content\n",
    "        frame1[top_left[1]:bottom_right[1], top_left[0]:bottom_right[0]] = rect2\n",
    "\n",
    "        # Save the modified frame\n",
    "        cv2.imwrite(output_image_name, frame1)\n",
    "\n",
    "    cap.release()\n",
    "\n",
    "# Example usage\n",
    "read_video_and_save_frames('cocog.mp4', 'allframesg')\n",
    "# swap_and_save_frame_content('path_to_video.mp4', 10, 20, (50, 50), (200, 200), 'frame12combined.jpg')\n"
   ]
  },
  {
   "cell_type": "code",
   "execution_count": 10,
   "metadata": {},
   "outputs": [],
   "source": [
    "swap_and_save_frame_content('ka.mp4', 5, 91, (299, 60), (348, 116), 'frame12combined.jpg')"
   ]
  },
  {
   "cell_type": "code",
   "execution_count": 11,
   "metadata": {},
   "outputs": [],
   "source": [
    "import cv2\n",
    "\n",
    "def replace_image_rect_with_video_frame(image_path, video_path, frame_num, top_left, bottom_right, output_image_name):\n",
    "    # Load the image\n",
    "    image = cv2.imread(image_path)\n",
    "\n",
    "    # Open the video file\n",
    "    cap = cv2.VideoCapture(video_path)\n",
    "    target_frame = None\n",
    "\n",
    "    for i in range(frame_num + 1):\n",
    "        ret, frame = cap.read()\n",
    "        if i == frame_num:\n",
    "            target_frame = frame\n",
    "            break\n",
    "\n",
    "    if target_frame is not None:\n",
    "        # Extracting the rectangle region from the video frame\n",
    "        rect_from_video = target_frame[top_left[1]:bottom_right[1], top_left[0]:bottom_right[0]]\n",
    "\n",
    "        # Replacing the content in the image\n",
    "        image[top_left[1]:bottom_right[1], top_left[0]:bottom_right[0]] = rect_from_video\n",
    "\n",
    "        # Save the modified image\n",
    "        cv2.imwrite(output_image_name, image)\n",
    "    else:\n",
    "        print(\"Frame number exceeds video length\")\n",
    "\n",
    "    cap.release()\n",
    "\n",
    "# Example usage\n",
    "# replace_image_rect_with_video_frame('path_to_image.jpg', 'path_to_video.mp4', 15, (50, 50), (200, 200), 'modified_image.jpg')\n"
   ]
  },
  {
   "cell_type": "code",
   "execution_count": 13,
   "metadata": {},
   "outputs": [],
   "source": [
    "replace_image_rect_with_video_frame('f13combined.jpg', 'kapalapa.mp4', 89, (496, 120), (518, 137), 'fbackcombined.jpg')"
   ]
  },
  {
   "cell_type": "code",
   "execution_count": null,
   "metadata": {},
   "outputs": [],
   "source": []
  }
 ],
 "metadata": {
  "kernelspec": {
   "display_name": "base",
   "language": "python",
   "name": "python3"
  },
  "language_info": {
   "codemirror_mode": {
    "name": "ipython",
    "version": 3
   },
   "file_extension": ".py",
   "mimetype": "text/x-python",
   "name": "python",
   "nbconvert_exporter": "python",
   "pygments_lexer": "ipython3",
   "version": "3.9.12"
  }
 },
 "nbformat": 4,
 "nbformat_minor": 2
}
